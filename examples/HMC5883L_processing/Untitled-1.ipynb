{
 "cells": [
  {
   "cell_type": "code",
   "execution_count": 34,
   "id": "b36c73f7",
   "metadata": {},
   "outputs": [
    {
     "data": {
      "text/plain": [
       "(-1, 0, 0)"
      ]
     },
     "execution_count": 34,
     "metadata": {},
     "output_type": "execute_result"
    }
   ],
   "source": [
    "import math\n",
    "\n",
    "PI = math.pi\n",
    "declinationAngle = (4.0 + (26.0 / 60.0)) / (180 / PI)\n",
    "\n",
    "# 0\n",
    "ox=400\n",
    "oy=0\n",
    "oz=1500\n",
    "\n",
    "# 30\n",
    "ox=1050\n",
    "oy=0\n",
    "oz=1020\n",
    "\n",
    "x = -oz\n",
    "y = ox\n",
    "z = -oy\n",
    "\n",
    "x = -1 # do przodu\n",
    "y = 0 # obrót przeciwnie do wskazówek zegara\n",
    "\n",
    "x, y, z"
   ]
  },
  {
   "cell_type": "code",
   "execution_count": 35,
   "id": "1be24c7a",
   "metadata": {},
   "outputs": [
    {
     "data": {
      "text/plain": [
       "3.141592653589793"
      ]
     },
     "execution_count": 35,
     "metadata": {},
     "output_type": "execute_result"
    }
   ],
   "source": [
    "heading = math.atan2(y, x)\n",
    "heading\n",
    "\n"
   ]
  },
  {
   "cell_type": "code",
   "execution_count": 36,
   "id": "36173a56",
   "metadata": {},
   "outputs": [
    {
     "data": {
      "text/plain": [
       "3.218968917094875"
      ]
     },
     "execution_count": 36,
     "metadata": {},
     "output_type": "execute_result"
    }
   ],
   "source": [
    "heading += declinationAngle\n",
    "if heading < 0:\n",
    "    heading += 2 * PI\n",
    "elif heading >= 2 * PI:\n",
    "    heading -= 2 * PI\n",
    "heading"
   ]
  },
  {
   "cell_type": "code",
   "execution_count": 37,
   "id": "2a53937f",
   "metadata": {},
   "outputs": [
    {
     "data": {
      "text/plain": [
       "(184.43333333333334, 4.433333333333337)"
      ]
     },
     "execution_count": 37,
     "metadata": {},
     "output_type": "execute_result"
    }
   ],
   "source": [
    "headingDegrees = heading * 180/PI\n",
    "north = headingDegrees + 180\n",
    "if north >= 360: north -= 360\n",
    "headingDegrees, north"
   ]
  },
  {
   "cell_type": "code",
   "execution_count": null,
   "id": "775aad88",
   "metadata": {},
   "outputs": [],
   "source": []
  },
  {
   "cell_type": "code",
   "execution_count": null,
   "id": "a427fda5",
   "metadata": {},
   "outputs": [],
   "source": []
  }
 ],
 "metadata": {
  "kernelspec": {
   "display_name": ".venv",
   "language": "python",
   "name": "python3"
  },
  "language_info": {
   "codemirror_mode": {
    "name": "ipython",
    "version": 3
   },
   "file_extension": ".py",
   "mimetype": "text/x-python",
   "name": "python",
   "nbconvert_exporter": "python",
   "pygments_lexer": "ipython3",
   "version": "3.12.10"
  }
 },
 "nbformat": 4,
 "nbformat_minor": 5
}
